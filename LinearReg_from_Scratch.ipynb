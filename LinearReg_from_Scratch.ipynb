{
  "nbformat": 4,
  "nbformat_minor": 0,
  "metadata": {
    "colab": {
      "name": "LinearReg_from_Scratch.ipynb",
      "provenance": [],
      "authorship_tag": "ABX9TyODMYGpRnTv9c+HCzRR1/i0",
      "include_colab_link": true
    },
    "kernelspec": {
      "name": "python3",
      "display_name": "Python 3"
    },
    "language_info": {
      "name": "python"
    }
  },
  "cells": [
    {
      "cell_type": "markdown",
      "metadata": {
        "id": "view-in-github",
        "colab_type": "text"
      },
      "source": [
        "<a href=\"https://colab.research.google.com/github/AliZaiN-157/Tensorflow-Practice/blob/main/LinearReg_from_Scratch.ipynb\" target=\"_parent\"><img src=\"https://colab.research.google.com/assets/colab-badge.svg\" alt=\"Open In Colab\"/></a>"
      ]
    },
    {
      "cell_type": "code",
      "metadata": {
        "id": "s-uOHn-QVz-d"
      },
      "source": [
        "import tensorflow as tf \n",
        "import random"
      ],
      "execution_count": null,
      "outputs": []
    },
    {
      "cell_type": "code",
      "metadata": {
        "colab": {
          "base_uri": "https://localhost:8080/",
          "height": 35
        },
        "id": "aDYg2u3RV7Zc",
        "outputId": "27a898ac-ab71-42bc-981d-3a88e29bb5f6"
      },
      "source": [
        "tf.__version__"
      ],
      "execution_count": null,
      "outputs": [
        {
          "output_type": "execute_result",
          "data": {
            "application/vnd.google.colaboratory.intrinsic+json": {
              "type": "string"
            },
            "text/plain": [
              "'2.4.1'"
            ]
          },
          "metadata": {
            "tags": []
          },
          "execution_count": 2
        }
      ]
    },
    {
      "cell_type": "code",
      "metadata": {
        "colab": {
          "base_uri": "https://localhost:8080/"
        },
        "id": "SQBZoF6kV8vY",
        "outputId": "4a534bb5-ca95-474d-8d49-22cfa6f4f40f"
      },
      "source": [
        "## X Independent Variable ( X )\n",
        "\n",
        "X = tf.constant([1,2,3,4,5,6], tf.float32)\n",
        "X"
      ],
      "execution_count": null,
      "outputs": [
        {
          "output_type": "execute_result",
          "data": {
            "text/plain": [
              "<tf.Tensor: shape=(6,), dtype=float32, numpy=array([1., 2., 3., 4., 5., 6.], dtype=float32)>"
            ]
          },
          "metadata": {
            "tags": []
          },
          "execution_count": 19
        }
      ]
    },
    {
      "cell_type": "code",
      "metadata": {
        "colab": {
          "base_uri": "https://localhost:8080/"
        },
        "id": "KqbQJJq5WSX4",
        "outputId": "5b358a60-584b-4569-8b29-d6e7cf73e848"
      },
      "source": [
        "## Y Dependent Variable ( Y )\n",
        "\n",
        "Y= tf.constant([100,200,300,400,500,600], tf.float32)\n",
        "Y"
      ],
      "execution_count": null,
      "outputs": [
        {
          "output_type": "execute_result",
          "data": {
            "text/plain": [
              "<tf.Tensor: shape=(6,), dtype=float32, numpy=array([100., 200., 300., 400., 500., 600.], dtype=float32)>"
            ]
          },
          "metadata": {
            "tags": []
          },
          "execution_count": 20
        }
      ]
    },
    {
      "cell_type": "markdown",
      "metadata": {
        "id": "ErcDXz1AWvQC"
      },
      "source": [
        "### Y = wX + b\n",
        "where :\n",
        "- Y = predict\n",
        "- X = Input\n",
        "- w = Weights\n",
        "- b = Bias"
      ]
    },
    {
      "cell_type": "code",
      "metadata": {
        "id": "pxKS2g2nWhc4"
      },
      "source": [
        "w = tf.Variable(tf.constant(random.uniform(0,1)))\n",
        "\n",
        "b = tf.Variable(tf.constant(random.uniform(0,1)))\n"
      ],
      "execution_count": null,
      "outputs": []
    },
    {
      "cell_type": "code",
      "metadata": {
        "id": "GTA9YGDjXTQY"
      },
      "source": [
        "def predict(X,w,b):\n",
        "    y_hat = tf.multiply(w, X) + b\n",
        "    return y_hat"
      ],
      "execution_count": null,
      "outputs": []
    },
    {
      "cell_type": "code",
      "metadata": {
        "colab": {
          "base_uri": "https://localhost:8080/"
        },
        "id": "eiG4pxjScHsB",
        "outputId": "65fb7f4d-2490-4f68-9911-01f92000be6d"
      },
      "source": [
        "prediction = predict(X,w,b)\n",
        "print(prediction)"
      ],
      "execution_count": null,
      "outputs": [
        {
          "output_type": "stream",
          "text": [
            "tf.Tensor([1.6306281 2.3255074 3.0203867 3.7152658 4.410145  5.1050243], shape=(6,), dtype=float32)\n"
          ],
          "name": "stdout"
        }
      ]
    },
    {
      "cell_type": "code",
      "metadata": {
        "id": "hTBPwKT6cN-Q"
      },
      "source": [
        "#Train Model loss function will be MeanSquareError(mse)\n",
        "\n",
        "def loss(y_hat, Y):\n",
        "    squared_error = tf.square(y_hat - Y)\n",
        "    mse = tf.reduce_mean(squared_error)\n",
        "    return mse "
      ],
      "execution_count": null,
      "outputs": []
    },
    {
      "cell_type": "code",
      "metadata": {
        "colab": {
          "base_uri": "https://localhost:8080/"
        },
        "id": "Ff3ytyVadOFZ",
        "outputId": "e1b9d160-f5ed-41cd-f246-76428d29371e"
      },
      "source": [
        "print(loss(prediction, Y))"
      ],
      "execution_count": null,
      "outputs": [
        {
          "output_type": "stream",
          "text": [
            "tf.Tensor(148916.58, shape=(), dtype=float32)\n"
          ],
          "name": "stdout"
        }
      ]
    },
    {
      "cell_type": "code",
      "metadata": {
        "id": "QSW2S9QNdR64"
      },
      "source": [
        "def train(X, Y, w, b):\n",
        "    Learning_Rate = 0.05\n",
        "\n",
        "    with tf.GradientTape() as t:\n",
        "\n",
        "        y_hat = predict(X, w, b)\n",
        "        step_loss = loss(y_hat, Y)\n",
        "\n",
        "    grad_w, grad_b = t.gradient(step_loss, [w,b])\n",
        "\n",
        "    w.assign_sub(Learning_Rate * grad_w)  \n",
        "    b.assign_sub(Learning_Rate * grad_b)  \n",
        "\n"
      ],
      "execution_count": null,
      "outputs": []
    },
    {
      "cell_type": "code",
      "metadata": {
        "id": "-qSyYFCFfDbx"
      },
      "source": [
        "for epoch in range(2000):\n",
        "\n",
        "    train(X, Y, w, b)"
      ],
      "execution_count": null,
      "outputs": []
    },
    {
      "cell_type": "code",
      "metadata": {
        "colab": {
          "base_uri": "https://localhost:8080/"
        },
        "id": "eIp3YJZafTl2",
        "outputId": "e601cd2e-e64a-472e-a84b-a3857b929082"
      },
      "source": [
        "prediction = predict(X, w, b)\n",
        "print(prediction)"
      ],
      "execution_count": null,
      "outputs": [
        {
          "output_type": "stream",
          "text": [
            "tf.Tensor([100.      199.99998 299.99994 399.99994 499.99994 599.9999 ], shape=(6,), dtype=float32)\n"
          ],
          "name": "stdout"
        }
      ]
    },
    {
      "cell_type": "code",
      "metadata": {
        "colab": {
          "base_uri": "https://localhost:8080/"
        },
        "id": "O4j16RP-flXI",
        "outputId": "4bfae644-c189-40d6-a857-e0fdc8b452c9"
      },
      "source": [
        "print(loss(prediction, Y))"
      ],
      "execution_count": null,
      "outputs": [
        {
          "output_type": "stream",
          "text": [
            "tf.Tensor(4.3849773e-09, shape=(), dtype=float32)\n"
          ],
          "name": "stdout"
        }
      ]
    },
    {
      "cell_type": "code",
      "metadata": {
        "id": "WT0fhinsfwBg"
      },
      "source": [
        ""
      ],
      "execution_count": null,
      "outputs": []
    }
  ]
}