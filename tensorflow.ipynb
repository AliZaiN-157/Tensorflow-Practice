{
  "nbformat": 4,
  "nbformat_minor": 0,
  "metadata": {
    "colab": {
      "name": "tensorflow.ipynb",
      "provenance": [],
      "authorship_tag": "ABX9TyML6Kl1f1wBML9L44MJOVE3",
      "include_colab_link": true
    },
    "kernelspec": {
      "name": "python3",
      "display_name": "Python 3"
    },
    "language_info": {
      "name": "python"
    }
  },
  "cells": [
    {
      "cell_type": "markdown",
      "metadata": {
        "id": "view-in-github",
        "colab_type": "text"
      },
      "source": [
        "<a href=\"https://colab.research.google.com/github/AliZaiN-157/Tensorflow-Practice/blob/main/tensorflow.ipynb\" target=\"_parent\"><img src=\"https://colab.research.google.com/assets/colab-badge.svg\" alt=\"Open In Colab\"/></a>"
      ]
    },
    {
      "cell_type": "code",
      "metadata": {
        "id": "swrYgItRG6HD"
      },
      "source": [
        "!pip install tensorflow --upgrade --quiet"
      ],
      "execution_count": null,
      "outputs": []
    },
    {
      "cell_type": "code",
      "metadata": {
        "id": "s5cuK0WuHBLD"
      },
      "source": [
        "import tensorflow as tf"
      ],
      "execution_count": null,
      "outputs": []
    },
    {
      "cell_type": "code",
      "metadata": {
        "colab": {
          "base_uri": "https://localhost:8080/"
        },
        "id": "XINO-SxmHFxB",
        "outputId": "0d7aa62e-23fd-43c3-d73e-46d7a06466e8"
      },
      "source": [
        "print(tf.__version__)"
      ],
      "execution_count": null,
      "outputs": [
        {
          "output_type": "stream",
          "text": [
            "2.4.1\n"
          ],
          "name": "stdout"
        }
      ]
    },
    {
      "cell_type": "markdown",
      "metadata": {
        "id": "bCY8W8cdHZMZ"
      },
      "source": [
        "## **Scalar**\n",
        " \n",
        "A scalar is a real number that can be expressed using a quantitative value.\n",
        "\n",
        "e.g : \n",
        "- 10Kg\n",
        "- 5 feet\n",
        "\n",
        "## **Tensors**\n",
        "\n",
        "Tensors are multi-dimensional arrays with a uniform data type.\n",
        "\n",
        "Rank of tensors determines the number of dimensions of an array.\n",
        "\n",
        "1. Scalar is a \"Rank-0\" tensor since it has magnitude but no dimensionality\n",
        "\n",
        "2. Vector is a \"Rank-1\" tensor since it has a single dimension, also known as \n",
        "\"**1-D tensor**\".\n",
        "\n",
        "3. Matrix is a \"Rank-2\" tensor since it has a two dimension, also known as \n",
        "\"**2-D tensor**\".\n",
        "\n"
      ]
    },
    {
      "cell_type": "code",
      "metadata": {
        "id": "DL-eqXkwLFp7"
      },
      "source": [
        "constant = tf.constant"
      ],
      "execution_count": null,
      "outputs": []
    },
    {
      "cell_type": "code",
      "metadata": {
        "colab": {
          "base_uri": "https://localhost:8080/"
        },
        "id": "UGi9xiONHIVB",
        "outputId": "5a705c3f-806d-4fa4-a25b-36d1b6a477e6"
      },
      "source": [
        "scalar = constant(3)\n",
        "scalar"
      ],
      "execution_count": null,
      "outputs": [
        {
          "output_type": "execute_result",
          "data": {
            "text/plain": [
              "<tf.Tensor: shape=(), dtype=int32, numpy=3>"
            ]
          },
          "metadata": {
            "tags": []
          },
          "execution_count": 13
        }
      ]
    },
    {
      "cell_type": "code",
      "metadata": {
        "colab": {
          "base_uri": "https://localhost:8080/"
        },
        "id": "ZRA7bYIdKjnT",
        "outputId": "5daa0d61-6bc6-47cf-e5ce-e6d4b69e6a37"
      },
      "source": [
        "print(scalar.shape)\n",
        "print(scalar.dtype)\n",
        "print(scalar.numpy())"
      ],
      "execution_count": null,
      "outputs": [
        {
          "output_type": "stream",
          "text": [
            "()\n",
            "<dtype: 'int32'>\n",
            "3\n"
          ],
          "name": "stdout"
        }
      ]
    },
    {
      "cell_type": "code",
      "metadata": {
        "colab": {
          "base_uri": "https://localhost:8080/"
        },
        "id": "V6-0WeX4KwRR",
        "outputId": "6388ce0f-742e-4113-ce36-80a837bbcc45"
      },
      "source": [
        "Rank_1D = constant([1,2,3,4,5])\n",
        "print(Rank_1D)"
      ],
      "execution_count": null,
      "outputs": [
        {
          "output_type": "stream",
          "text": [
            "tf.Tensor([1 2 3 4 5], shape=(5,), dtype=int32)\n"
          ],
          "name": "stdout"
        }
      ]
    },
    {
      "cell_type": "code",
      "metadata": {
        "colab": {
          "base_uri": "https://localhost:8080/"
        },
        "id": "JO2Pe9QuK0eA",
        "outputId": "40e0ec9f-2df7-462d-e06d-494515b981b7"
      },
      "source": [
        "Rank_2D = constant([[1,2,3,4],[5,6,7,8]])\n",
        "print(Rank_2D)"
      ],
      "execution_count": null,
      "outputs": [
        {
          "output_type": "stream",
          "text": [
            "tf.Tensor(\n",
            "[[1 2 3 4]\n",
            " [5 6 7 8]], shape=(2, 4), dtype=int32)\n"
          ],
          "name": "stdout"
        }
      ]
    },
    {
      "cell_type": "code",
      "metadata": {
        "colab": {
          "base_uri": "https://localhost:8080/"
        },
        "id": "HqE0CcAlK0ao",
        "outputId": "3ec81532-2c49-4d25-aeea-3701a3a523ce"
      },
      "source": [
        "Rank_3D = constant([[[1,2,3,4],[5,6,7,8]],[[5,6,7,8],[9,10,11,12]]])\n",
        "print(Rank_3D)"
      ],
      "execution_count": null,
      "outputs": [
        {
          "output_type": "stream",
          "text": [
            "tf.Tensor(\n",
            "[[[ 1  2  3  4]\n",
            "  [ 5  6  7  8]]\n",
            "\n",
            " [[ 5  6  7  8]\n",
            "  [ 9 10 11 12]]], shape=(2, 2, 4), dtype=int32)\n"
          ],
          "name": "stdout"
        }
      ]
    },
    {
      "cell_type": "markdown",
      "metadata": {
        "id": "vaCQdfNYNWG6"
      },
      "source": [
        "#### Different Types of Tensor"
      ]
    },
    {
      "cell_type": "code",
      "metadata": {
        "colab": {
          "base_uri": "https://localhost:8080/"
        },
        "id": "gF4GX2b8K0YE",
        "outputId": "fca771f4-9fcc-4b80-c0a5-c21a26825073"
      },
      "source": [
        "print(tf.ones([2,2,4]))"
      ],
      "execution_count": null,
      "outputs": [
        {
          "output_type": "stream",
          "text": [
            "tf.Tensor(\n",
            "[[[1. 1. 1. 1.]\n",
            "  [1. 1. 1. 1.]]\n",
            "\n",
            " [[1. 1. 1. 1.]\n",
            "  [1. 1. 1. 1.]]], shape=(2, 2, 4), dtype=float32)\n"
          ],
          "name": "stdout"
        }
      ]
    },
    {
      "cell_type": "code",
      "metadata": {
        "colab": {
          "base_uri": "https://localhost:8080/"
        },
        "id": "advdEMEdK0V5",
        "outputId": "5ed7bf0c-7dc6-4cba-ec83-09c224acf657"
      },
      "source": [
        "print(tf.zeros([2,2,4]))"
      ],
      "execution_count": null,
      "outputs": [
        {
          "output_type": "stream",
          "text": [
            "tf.Tensor(\n",
            "[[[0. 0. 0. 0.]\n",
            "  [0. 0. 0. 0.]]\n",
            "\n",
            " [[0. 0. 0. 0.]\n",
            "  [0. 0. 0. 0.]]], shape=(2, 2, 4), dtype=float32)\n"
          ],
          "name": "stdout"
        }
      ]
    },
    {
      "cell_type": "code",
      "metadata": {
        "colab": {
          "base_uri": "https://localhost:8080/"
        },
        "id": "Ku4UiG7hK0TV",
        "outputId": "7ae967f0-f382-4114-9754-b20896c0a5fb"
      },
      "source": [
        "print(tf.eye(3,3))"
      ],
      "execution_count": null,
      "outputs": [
        {
          "output_type": "stream",
          "text": [
            "tf.Tensor(\n",
            "[[1. 0. 0.]\n",
            " [0. 1. 0.]\n",
            " [0. 0. 1.]], shape=(3, 3), dtype=float32)\n"
          ],
          "name": "stdout"
        }
      ]
    },
    {
      "cell_type": "code",
      "metadata": {
        "colab": {
          "base_uri": "https://localhost:8080/"
        },
        "id": "S2iIQuDMK0Qh",
        "outputId": "055e8215-d1f6-4117-f73e-c911268db862"
      },
      "source": [
        "print(tf.fill([2,2], 4))"
      ],
      "execution_count": null,
      "outputs": [
        {
          "output_type": "stream",
          "text": [
            "tf.Tensor(\n",
            "[[4 4]\n",
            " [4 4]], shape=(2, 2), dtype=int32)\n"
          ],
          "name": "stdout"
        }
      ]
    },
    {
      "cell_type": "code",
      "metadata": {
        "colab": {
          "base_uri": "https://localhost:8080/"
        },
        "id": "YQx_yRaMOAi1",
        "outputId": "ff056315-d7b0-4bb9-e351-66ec0605ec02"
      },
      "source": [
        "print(tf.linspace(0,9,5)) # linspace(start,stop,evenlydistributed)"
      ],
      "execution_count": null,
      "outputs": [
        {
          "output_type": "stream",
          "text": [
            "tf.Tensor([0.   2.25 4.5  6.75 9.  ], shape=(5,), dtype=float64)\n"
          ],
          "name": "stdout"
        }
      ]
    },
    {
      "cell_type": "code",
      "metadata": {
        "colab": {
          "base_uri": "https://localhost:8080/"
        },
        "id": "YdGMJlu2OL24",
        "outputId": "5c1e4db0-b6a7-40a0-b4c2-6d4eccd00b97"
      },
      "source": [
        "print(tf.range(0,9,2)) # range(start,stop,steps)"
      ],
      "execution_count": null,
      "outputs": [
        {
          "output_type": "stream",
          "text": [
            "tf.Tensor([0 2 4 6 8], shape=(5,), dtype=int32)\n"
          ],
          "name": "stdout"
        }
      ]
    },
    {
      "cell_type": "code",
      "metadata": {
        "colab": {
          "base_uri": "https://localhost:8080/"
        },
        "id": "xUQusvpcO1Ru",
        "outputId": "34dfa3f1-9825-44ed-e616-d8c1af60ea08"
      },
      "source": [
        "x = tf.Variable(tf.constant([1,2,3]))\n",
        "x"
      ],
      "execution_count": null,
      "outputs": [
        {
          "output_type": "execute_result",
          "data": {
            "text/plain": [
              "<tf.Variable 'Variable:0' shape=(3,) dtype=int32, numpy=array([1, 2, 3], dtype=int32)>"
            ]
          },
          "metadata": {
            "tags": []
          },
          "execution_count": 33
        }
      ]
    },
    {
      "cell_type": "code",
      "metadata": {
        "colab": {
          "base_uri": "https://localhost:8080/"
        },
        "id": "yrZWbrTmO1K5",
        "outputId": "da3fc0b2-f53a-4c9e-bdf7-b6053f04956a"
      },
      "source": [
        "#assign()\n",
        "\n",
        "x.assign(tf.constant([4,5,6]))\n",
        "x"
      ],
      "execution_count": null,
      "outputs": [
        {
          "output_type": "execute_result",
          "data": {
            "text/plain": [
              "<tf.Variable 'Variable:0' shape=(3,) dtype=int32, numpy=array([4, 5, 6], dtype=int32)>"
            ]
          },
          "metadata": {
            "tags": []
          },
          "execution_count": 39
        }
      ]
    },
    {
      "cell_type": "markdown",
      "metadata": {
        "id": "rcZgC0LmQc9w"
      },
      "source": [
        "#### Tensor Operations in Tensorflow\n",
        "\n",
        "\n"
      ]
    },
    {
      "cell_type": "code",
      "metadata": {
        "colab": {
          "base_uri": "https://localhost:8080/"
        },
        "id": "cfvgaFLcOb3f",
        "outputId": "00cdf8cb-a645-4efa-f947-18f7cc1e1c48"
      },
      "source": [
        "t1= constant([1,2,3])\n",
        "t2= constant([4,5,6])\n",
        "print(\"tensor 1 =>\",t1,\"\\ntenors 2 =>\",t2)"
      ],
      "execution_count": null,
      "outputs": [
        {
          "output_type": "stream",
          "text": [
            "tensor 1 => tf.Tensor([1 2 3], shape=(3,), dtype=int32) \n",
            "tenors 2 => tf.Tensor([4 5 6], shape=(3,), dtype=int32)\n"
          ],
          "name": "stdout"
        }
      ]
    },
    {
      "cell_type": "code",
      "metadata": {
        "colab": {
          "base_uri": "https://localhost:8080/"
        },
        "id": "_Cq47yugQs_t",
        "outputId": "800dadd0-aba1-4e2f-9fb8-a954a0a56c1e"
      },
      "source": [
        "t3 = tf.add(t2,t1)\n",
        "print(t3) # both will give same result\n",
        "print(t1 + t2)\n",
        "## similarly with subtract(), multiply(), divide()."
      ],
      "execution_count": null,
      "outputs": [
        {
          "output_type": "execute_result",
          "data": {
            "text/plain": [
              "<tf.Tensor: shape=(3,), dtype=int32, numpy=array([5, 7, 9], dtype=int32)>"
            ]
          },
          "metadata": {
            "tags": []
          },
          "execution_count": 51
        }
      ]
    },
    {
      "cell_type": "code",
      "metadata": {
        "colab": {
          "base_uri": "https://localhost:8080/"
        },
        "id": "biwrvUJ-Rhw5",
        "outputId": "9c50a043-d232-42e0-c390-0929d0e528da"
      },
      "source": [
        "t4 = tf.square(t2)\n",
        "print(t4)\n",
        "## similarly with reduce_mean()\n",
        "t6 = tf.reduce_mean(t2)\n",
        "print(t6)\n",
        "print(t4 + t6)"
      ],
      "execution_count": null,
      "outputs": [
        {
          "output_type": "stream",
          "text": [
            "tf.Tensor([16 25 36], shape=(3,), dtype=int32)\n",
            "tf.Tensor(5, shape=(), dtype=int32)\n",
            "tf.Tensor([21 30 41], shape=(3,), dtype=int32)\n"
          ],
          "name": "stdout"
        }
      ]
    },
    {
      "cell_type": "code",
      "metadata": {
        "colab": {
          "base_uri": "https://localhost:8080/"
        },
        "id": "xdu_xOeGSStN",
        "outputId": "1afca773-045b-49b9-d6c3-d9835ae4ee06"
      },
      "source": [
        "##Complex Operations\n",
        "\n",
        "t5 = t1 + tf.reduce_mean(t2) + tf.square(t2)\n",
        "t5"
      ],
      "execution_count": null,
      "outputs": [
        {
          "output_type": "execute_result",
          "data": {
            "text/plain": [
              "<tf.Tensor: shape=(3,), dtype=int32, numpy=array([22, 32, 44], dtype=int32)>"
            ]
          },
          "metadata": {
            "tags": []
          },
          "execution_count": 55
        }
      ]
    },
    {
      "cell_type": "code",
      "metadata": {
        "id": "NJygw_PiS21x"
      },
      "source": [
        ""
      ],
      "execution_count": null,
      "outputs": []
    }
  ]
}